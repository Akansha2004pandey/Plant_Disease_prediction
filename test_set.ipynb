{
  "cells": [
    {
      "cell_type": "code",
      "execution_count": null,
      "metadata": {
        "id": "GdOZ6GPB0BE5"
      },
      "outputs": [],
      "source": [
        "import pandas as pd\n",
        "import numpy as np\n",
        "import matplotlib.pyplot as plt\n"
      ]
    },
    {
      "cell_type": "code",
      "execution_count": null,
      "metadata": {
        "id": "RjjgWSfd0OqJ",
        "colab": {
          "base_uri": "https://localhost:8080/"
        },
        "outputId": "17cb7927-737c-4499-a14c-2c5f9ab5ad2c"
      },
      "outputs": [
        {
          "output_type": "stream",
          "name": "stdout",
          "text": [
            "Mounted at /content/drive\n"
          ]
        }
      ],
      "source": [
        "from google.colab import drive\n",
        "drive.mount('/content/drive')"
      ]
    },
    {
      "cell_type": "code",
      "execution_count": null,
      "metadata": {
        "id": "koFuPaK60gwa"
      },
      "outputs": [],
      "source": [
        "import shutil\n",
        "import os"
      ]
    },
    {
      "cell_type": "code",
      "execution_count": null,
      "metadata": {
        "id": "xSdDjZL90klj",
        "colab": {
          "base_uri": "https://localhost:8080/"
        },
        "outputId": "803da315-dded-4da8-9869-b7f5b1e1d0a9"
      },
      "outputs": [
        {
          "output_type": "stream",
          "name": "stdout",
          "text": [
            "Extraction completed successfully!\n"
          ]
        }
      ],
      "source": [
        "import os\n",
        "import zipfile\n",
        "\n",
        "# Set paths\n",
        "zip_path = '/content/drive/My Drive/plant_images/new-plant-diseases-dataset.zip'\n",
        "extraction_path = '/content/extracted_plant_images/'\n",
        "\n",
        "# Check if the zip file exists\n",
        "if not os.path.exists(zip_path):\n",
        "    print(f\"Error: The file '{zip_path}' was not found.\")\n",
        "else:\n",
        "    # Make sure the extraction directory exists\n",
        "    os.makedirs(extraction_path, exist_ok=True)\n",
        "\n",
        "    try:\n",
        "        # Attempt to extract the zip file\n",
        "        with zipfile.ZipFile(zip_path, 'r') as zip_ref:\n",
        "            zip_ref.extractall(extraction_path)\n",
        "        print(\"Extraction completed successfully!\")\n",
        "    except zipfile.BadZipFile:\n",
        "        print(\"Error: The file is not a valid zip file or it may be corrupted.\")\n",
        "    except Exception as e:\n",
        "        print(f\"An error occurred: {e}\")\n"
      ]
    },
    {
      "cell_type": "code",
      "execution_count": null,
      "metadata": {
        "colab": {
          "base_uri": "https://localhost:8080/"
        },
        "id": "SOBV9TRu0nBe",
        "outputId": "8dffb84d-917e-428b-adf5-beabe7aa2bc3"
      },
      "outputs": [
        {
          "metadata": {
            "tags": null
          },
          "name": "stdout",
          "output_type": "stream",
          "text": [
            "Archive:  /content/drive/My Drive/plant_images/new-plant-diseases-dataset.zip\n",
            "replace /content/extracted_plant_images/New Plant Diseases Dataset(Augmented)/New Plant Diseases Dataset(Augmented)/train/Apple___Apple_scab/00075aa8-d81a-4184-8541-b692b78d398a___FREC_Scab 3335.JPG? [y]es, [n]o, [A]ll, [N]one, [r]ename: "
          ]
        }
      ],
      "source": [
        "!unzip \"/content/drive/My Drive/plant_images/new-plant-diseases-dataset.zip\" -d \"/content/extracted_plant_images/\""
      ]
    },
    {
      "cell_type": "code",
      "source": [
        "import tensorflow as tf\n",
        "import matplotlib.pyplot as plt\n",
        "import pandas as pd\n",
        "import seaborn as sns\n"
      ],
      "metadata": {
        "id": "NOQ4AH_ZGbB6"
      },
      "execution_count": null,
      "outputs": []
    },
    {
      "cell_type": "code",
      "source": [
        "from tensorflow.keras.models import load_model"
      ],
      "metadata": {
        "id": "2-Z1_VW_UiF6"
      },
      "execution_count": null,
      "outputs": []
    },
    {
      "cell_type": "code",
      "source": [
        "model=load_model(\"/content/drive/My Drive/model_saves/trained_model.h5\")"
      ],
      "metadata": {
        "id": "c10Ul4hsUyZ6"
      },
      "execution_count": null,
      "outputs": []
    },
    {
      "cell_type": "code",
      "source": [
        "model.summary()"
      ],
      "metadata": {
        "id": "41XGJ4BMU7d8"
      },
      "execution_count": null,
      "outputs": []
    },
    {
      "cell_type": "code",
      "source": [
        "### Visualising single image of asset\n",
        "!pip install opencv-python"
      ],
      "metadata": {
        "id": "j3k6ht9qGiI0"
      },
      "execution_count": null,
      "outputs": []
    },
    {
      "cell_type": "code",
      "source": [
        "import cv2\n",
        "### we want to see our image\n",
        "image_path='/content/extracted_plant_images/test/test/AppleCedarRust2.JPG'\n",
        "img=cv2.imread(image_path)\n",
        "img=cv2.cvtColor(img,cv2.COLOR_BGR2RGB) #convert bgr image to rgb\n",
        "#we get image in bgr format hence we need to convert image to rgb format\n",
        "plt.imshow(img)\n",
        "plt.title(\"test image\")\n",
        "plt.xticks([])\n",
        "plt.yticks([])\n",
        "plt.show()"
      ],
      "metadata": {
        "id": "wv3m4ytPVffx"
      },
      "execution_count": null,
      "outputs": []
    },
    {
      "cell_type": "code",
      "source": [
        "## testing model\n",
        "##first we need to convert image to array\n",
        "## our model is trained on 128*128 format\n",
        "image=tf.keras.preprocessing.image.load_img(image_path,target_size=(128,128))\n",
        "input_arr=tf.keras.preprocessing.image.img_to_array(image)\n",
        "input_arr=np.array([input_arr])\n",
        "input_arr.shape"
      ],
      "metadata": {
        "id": "jkm5R5eUWWgj"
      },
      "execution_count": null,
      "outputs": []
    },
    {
      "cell_type": "code",
      "source": [
        "#convert single image to a batch\n",
        "predictions=model.predict(input_arr)\n",
        "predictions"
      ],
      "metadata": {
        "id": "oG0VCW_oYAKF"
      },
      "execution_count": null,
      "outputs": []
    },
    {
      "cell_type": "code",
      "source": [
        "result=np.argmax(predictions)\n",
        "result"
      ],
      "metadata": {
        "id": "KukPCpnZYvCg"
      },
      "execution_count": null,
      "outputs": []
    },
    {
      "cell_type": "code",
      "source": [
        "class_names=['Apple___Apple_scab',\n",
        " 'Apple___Black_rot',\n",
        " 'Apple___Cedar_apple_rust',\n",
        " 'Apple___healthy',\n",
        " 'Blueberry___healthy',\n",
        " 'Cherry_(including_sour)___Powdery_mildew',\n",
        " 'Cherry_(including_sour)___healthy',\n",
        " 'Corn_(maize)___Cercospora_leaf_spot Gray_leaf_spot',\n",
        " 'Corn_(maize)___Common_rust_',\n",
        " 'Corn_(maize)___Northern_Leaf_Blight',\n",
        " 'Corn_(maize)___healthy',\n",
        " 'Grape___Black_rot',\n",
        " 'Grape___Esca_(Black_Measles)',\n",
        " 'Grape___Leaf_blight_(Isariopsis_Leaf_Spot)',\n",
        " 'Grape___healthy',\n",
        " 'Orange___Haunglongbing_(Citrus_greening)',\n",
        " 'Peach___Bacterial_spot',\n",
        " 'Peach___healthy',\n",
        " 'Pepper,_bell___Bacterial_spot',\n",
        " 'Pepper,_bell___healthy',\n",
        " 'Potato___Early_blight',\n",
        " 'Potato___Late_blight',\n",
        " 'Potato___healthy',\n",
        " 'Raspberry___healthy',\n",
        " 'Soybean___healthy',\n",
        " 'Squash___Powdery_mildew',\n",
        " 'Strawberry___Leaf_scorch',\n",
        " 'Strawberry___healthy',\n",
        " 'Tomato___Bacterial_spot',\n",
        " 'Tomato___Early_blight',\n",
        " 'Tomato___Late_blight',\n",
        " 'Tomato___Leaf_Mold',\n",
        " 'Tomato___Septoria_leaf_spot',\n",
        " 'Tomato___Spider_mites Two-spotted_spider_mite',\n",
        " 'Tomato___Target_Spot',\n",
        " 'Tomato___Tomato_Yellow_Leaf_Curl_Virus',\n",
        " 'Tomato___Tomato_mosaic_virus',\n",
        " 'Tomato___healthy']"
      ],
      "metadata": {
        "id": "_75DB5IhZN6T"
      },
      "execution_count": null,
      "outputs": []
    },
    {
      "cell_type": "code",
      "source": [
        "model_prediction=class_names[result]\n",
        "model_prediction"
      ],
      "metadata": {
        "id": "nvdkV9D9bWx7"
      },
      "execution_count": null,
      "outputs": []
    },
    {
      "cell_type": "code",
      "source": [],
      "metadata": {
        "id": "D4kM0jkBbu5q"
      },
      "execution_count": null,
      "outputs": []
    }
  ],
  "metadata": {
    "colab": {
      "provenance": [],
      "gpuType": "T4"
    },
    "kernelspec": {
      "display_name": "Python 3",
      "name": "python3"
    },
    "language_info": {
      "name": "python"
    },
    "accelerator": "GPU"
  },
  "nbformat": 4,
  "nbformat_minor": 0
}